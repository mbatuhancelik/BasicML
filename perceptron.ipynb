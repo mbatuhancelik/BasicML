{
 "cells": [
  {
   "cell_type": "markdown",
   "id": "7521f89f-37d9-4617-af48-c2edd19000e2",
   "metadata": {},
   "source": [
    "# Seperation Boundary \n",
    "* We know that seperation boundary will be $w_0 + w_1x_1 + w_2x_2 = 0$\n",
    "* In the question it is given as $x_2 = ax_1 + b$ => $x_2 - ax_1 - b = 0$\n",
    "* $c = -w_0/w_2$\n",
    "* $a = -w_1/w_2$"
   ]
  },
  {
   "cell_type": "markdown",
   "id": "d2c493fc-8f8a-4681-a391-0a222bbb5d17",
   "metadata": {},
   "source": [
    "# Setting a Target Function\n",
    "* The target function will be set as the line $y = x$"
   ]
  },
  {
   "cell_type": "code",
   "execution_count": 10,
   "id": "bb4e659a-ffa4-4d9d-834f-fa8d34d5274d",
   "metadata": {},
   "outputs": [],
   "source": [
    "def targetFunction(x, y):\n",
    "    if y > x:\n",
    "        return 1\n",
    "    elif x > y:\n",
    "        return -1\n",
    "    else:\n",
    "        return 0"
   ]
  },
  {
   "cell_type": "markdown",
   "id": "507d2b6b-c790-4a19-8bf2-579f48dab505",
   "metadata": {
    "tags": []
   },
   "source": [
    "# Creating a Dataset of Size 20\n",
    "* The samples will be in the interval $0 \\le x \\le 10$ and $0 \\le y \\le 10$"
   ]
  },
  {
   "cell_type": "code",
   "execution_count": 11,
   "id": "46b50317-5718-40cb-b366-eea9ed79e3e2",
   "metadata": {},
   "outputs": [
    {
     "data": {
      "image/png": "[encoded data removed]",
      "text/plain": [
       "<Figure size 432x288 with 1 Axes>"
      ]
     },
     "metadata": {
      "needs_background": "light"
     },
     "output_type": "display_data"
    }
   ],
   "source": [
    "import numpy as np\n",
    "import matplotlib\n",
    "import matplotlib.pyplot as plt\n",
    "import random\n",
    "import math\n",
    "\n",
    "\n",
    "random.seed(3)\n",
    "\n",
    "dataset = []\n",
    "\n",
    "count = 0\n",
    "while count < 20:\n",
    "    point_x = random.random()*10\n",
    "    point_y = random.random()*10\n",
    "    value = targetFunction(point_x, point_y)\n",
    "    if value != 0:\n",
    "        dataset.append([point_x, point_y, value])\n",
    "        count += 1\n",
    "    else:\n",
    "        continue\n",
    "\n",
    "\n",
    "dataset = np.array(dataset)\n",
    "colors = [\"blue\", \"red\"]\n",
    "\n",
    "plt.scatter(dataset[:, 0], dataset[:, 1], c = dataset[:, 2], cmap = matplotlib.colors.ListedColormap(colors))\n",
    "plt.show()"
   ]
  },
  {
   "cell_type": "markdown",
   "id": "c72f8292-9eea-48d3-8d80-40d2f8ada782",
   "metadata": {},
   "source": [
    "# Implementing the Perceptron Algorithm"
   ]
  },
  {
   "cell_type": "code",
   "execution_count": 16,
   "id": "b7d946f3-bd94-4d05-90be-d056084f21d3",
   "metadata": {},
   "outputs": [],
   "source": [
    "# This function will return an array that defines the weights of each feature and the number of steps\n",
    "# \"dataset\" contains the feature values of each point and the class they fall into\n",
    "def perceptron(dataset):\n",
    "    weights = [1,2,3]\n",
    "    steps = 0\n",
    "    completed = False\n",
    "    while not completed:\n",
    "        for i in dataset:\n",
    "            completed = True\n",
    "            if i[2] == 1 and weights[0] + weights[1]*i[0] + weights[2]*i[1] < 0:\n",
    "                steps += 1\n",
    "                weights[0] += 1\n",
    "                weights[1] += i[0]\n",
    "                weights[2] += i[1]\n",
    "                completed = False\n",
    "                break\n",
    "            elif i[2] == -1 and weights[0] + weights[1]*i[0] + weights[2]*i[1] > 0:\n",
    "                steps += 1\n",
    "                weights[0] -= 1\n",
    "                weights[1] -= i[0]\n",
    "                weights[2] -= i[1]\n",
    "                completed = False\n",
    "                break\n",
    "    return weights, steps            "
   ]
  },
  {
   "cell_type": "code",
   "execution_count": 17,
   "id": "9520cbad-e07d-4360-8bb2-d802c093aacf",
   "metadata": {},
   "outputs": [
    {
     "name": "stdout",
     "output_type": "stream",
     "text": [
      "[-1, -8.302383037759647, 9.081204366193699]\n",
      "6\n"
     ]
    }
   ],
   "source": [
    "w, s = perceptron(dataset)\n",
    "print(w)\n",
    "print(s)"
   ]
  },
  {
   "cell_type": "code",
   "execution_count": 19,
   "id": "d1a58c5f-f702-4940-a56f-738805d40564",
   "metadata": {},
   "outputs": [
    {
     "name": "stdout",
     "output_type": "stream",
     "text": [
      "Real class: 1\n",
      "Class found by algorithm: 1\n",
      "\n",
      "Real class: 1\n",
      "Class found by algorithm: 1\n",
      "\n",
      "Real class: -1\n",
      "Class found by algorithm: -1\n",
      "\n",
      "Real class: 1\n",
      "Class found by algorithm: 1\n",
      "\n",
      "Real class: -1\n",
      "Class found by algorithm: -1\n",
      "\n",
      "Real class: -1\n",
      "Class found by algorithm: -1\n",
      "\n",
      "Real class: -1\n",
      "Class found by algorithm: -1\n",
      "\n",
      "Real class: -1\n",
      "Class found by algorithm: -1\n",
      "\n",
      "Real class: 1\n",
      "Class found by algorithm: 1\n",
      "\n",
      "Real class: 1\n",
      "Class found by algorithm: 1\n",
      "\n",
      "Real class: -1\n",
      "Class found by algorithm: -1\n",
      "\n",
      "Real class: -1\n",
      "Class found by algorithm: -1\n",
      "\n",
      "Real class: -1\n",
      "Class found by algorithm: -1\n",
      "\n",
      "Real class: -1\n",
      "Class found by algorithm: -1\n",
      "\n",
      "Real class: 1\n",
      "Class found by algorithm: 1\n",
      "\n",
      "Real class: 1\n",
      "Class found by algorithm: 1\n",
      "\n",
      "Real class: 1\n",
      "Class found by algorithm: 1\n",
      "\n",
      "Real class: 1\n",
      "Class found by algorithm: 1\n",
      "\n",
      "Real class: -1\n",
      "Class found by algorithm: -1\n",
      "\n",
      "Real class: 1\n",
      "Class found by algorithm: 1\n",
      "\n"
     ]
    }
   ],
   "source": [
    "#for i in dataset:\n",
    "#    print(\"Real class:\", targetFunction(i[0], i[1]))\n",
    "#    print(\"Class found by algorithm:\", 1 if w[0] + w[1]*i[0] + w[2]*i[1] > 0 else -1)\n",
    "#    print()"
   ]
  },
  {
   "cell_type": "code",
   "execution_count": null,
   "id": "3e2ac172-dd82-43b7-ab4a-1391406fc809",
   "metadata": {},
   "outputs": [],
   "source": []
  }
 ],
 "metadata": {
  "kernelspec": {
   "display_name": "Python 3 (ipykernel)",
   "language": "python",
   "name": "python3"
  },
  "language_info": {
   "codemirror_mode": {
    "name": "ipython",
    "version": 3
   },
   "file_extension": ".py",
   "mimetype": "text/x-python",
   "name": "python",
   "nbconvert_exporter": "python",
   "pygments_lexer": "ipython3",
   "version": "3.10.4"
  }
 },
 "nbformat": 4,
 "nbformat_minor": 5
}
