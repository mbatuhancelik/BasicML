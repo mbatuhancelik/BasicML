{
 "cells": [
  {
   "cell_type": "code",
   "execution_count": 15,
   "id": "35f92e79",
   "metadata": {},
   "outputs": [],
   "source": [
    "import numpy as np\n",
    "import os"
   ]
  },
  {
   "cell_type": "code",
   "execution_count": 16,
   "id": "cd54089d",
   "metadata": {},
   "outputs": [],
   "source": [
    "PATH = './linearRegression_data'"
   ]
  },
  {
   "cell_type": "code",
   "execution_count": 17,
   "id": "5647ffa0",
   "metadata": {},
   "outputs": [],
   "source": [
    "TRAIN_LABEL_FILENAME = 'orientations_train.npy'\n",
    "TRAIN_LABEL_FULL_PATH = os.path.join(PATH, TRAIN_LABEL_FILENAME)\n",
    "\n",
    "y_train = np.load(TRAIN_LABEL_FULL_PATH)"
   ]
  },
  {
   "cell_type": "code",
   "execution_count": 18,
   "id": "a13d26db",
   "metadata": {},
   "outputs": [],
   "source": [
    "TRAIN_SET_FOLDER_NAME = '3dshapes_train'\n",
    "TRAIN_SET_FULL_PATH = os.path.join(PATH, TRAIN_SET_FOLDER_NAME)\n",
    "\n",
    "TRAIN_SIZE = len(os.listdir(TRAIN_SET_FULL_PATH))\n",
    "X_train = np.zeros((TRAIN_SIZE, 4096))"
   ]
  },
  {
   "cell_type": "code",
   "execution_count": 19,
   "id": "8c163f33",
   "metadata": {},
   "outputs": [],
   "source": [
    "import cv2"
   ]
  },
  {
   "cell_type": "code",
   "execution_count": 20,
   "id": "0697c803",
   "metadata": {},
   "outputs": [],
   "source": [
    "for i in range(TRAIN_SIZE):\n",
    "    img = cv2.imread(os.path.join(TRAIN_SET_FULL_PATH, '{}.jpg'.format(i)))\n",
    "    gray_scale = cv2.cvtColor(img, cv2.COLOR_BGR2GRAY)\n",
    "    flat_img = gray_scale.flatten()\n",
    "    X_train[i] = flat_img"
   ]
  },
  {
   "cell_type": "code",
   "execution_count": 21,
   "id": "f71b5657",
   "metadata": {},
   "outputs": [
    {
     "name": "stdout",
     "output_type": "stream",
     "text": [
      "(10000, 4096)\n"
     ]
    }
   ],
   "source": [
    "print(X_train.shape)"
   ]
  },
  {
   "cell_type": "code",
   "execution_count": 22,
   "id": "b77d839c",
   "metadata": {},
   "outputs": [
    {
     "name": "stdout",
     "output_type": "stream",
     "text": [
      "(10000, 4097)\n"
     ]
    }
   ],
   "source": [
    "X_train = np.hstack((np.ones((X_train.shape[0], 1)), X_train))\n",
    "print(X_train.shape)"
   ]
  },
  {
   "cell_type": "code",
   "execution_count": null,
   "id": "ca76b0bd",
   "metadata": {},
   "outputs": [],
   "source": [
    "\n"
   ]
  },
  {
   "cell_type": "code",
   "execution_count": null,
   "id": "4a02eecd",
   "metadata": {},
   "outputs": [],
   "source": []
  }
 ],
 "metadata": {
  "kernelspec": {
   "display_name": "Python 3 (ipykernel)",
   "language": "python",
   "name": "python3"
  },
  "language_info": {
   "codemirror_mode": {
    "name": "ipython",
    "version": 3
   },
   "file_extension": ".py",
   "mimetype": "text/x-python",
   "name": "python",
   "nbconvert_exporter": "python",
   "pygments_lexer": "ipython3",
   "version": "3.8.9"
  }
 },
 "nbformat": 4,
 "nbformat_minor": 5
}
