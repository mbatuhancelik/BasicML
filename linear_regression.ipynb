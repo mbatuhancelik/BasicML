{
 "cells": [
  {
   "cell_type": "code",
   "execution_count": null,
   "id": "35f92e79",
   "metadata": {},
   "outputs": [],
   "source": [
    "import numpy as np\n",
    "import os"
   ]
  },
  {
   "cell_type": "code",
   "execution_count": null,
   "id": "cd54089d",
   "metadata": {},
   "outputs": [],
   "source": [
    "PATH = './linearRegression_data'"
   ]
  },
  {
   "cell_type": "code",
   "execution_count": null,
   "id": "5647ffa0",
   "metadata": {},
   "outputs": [],
   "source": [
    "TRAIN_LABEL_FILENAME = 'orientations_train.npy'\n",
    "TRAIN_LABEL_FULL_PATH = os.path.join(PATH, TRAIN_LABEL_FILENAME)\n",
    "\n",
    "y_train = np.load(TRAIN_LABEL_FULL_PATH)"
   ]
  },
  {
   "cell_type": "code",
   "execution_count": null,
   "id": "a13d26db",
   "metadata": {},
   "outputs": [],
   "source": [
    "TRAIN_SET_FOLDER_NAME = '3dshapes_train'\n",
    "TRAIN_SET_FULL_PATH = os.path.join(PATH, TRAIN_SET_FOLDER_NAME)\n",
    "\n",
    "TRAIN_SIZE = len(os.listdir(TRAIN_SET_FULL_PATH))\n",
    "X_train = np.zeros((TRAIN_SIZE, 4096))"
   ]
  },
  {
   "cell_type": "code",
   "execution_count": null,
   "id": "8c163f33",
   "metadata": {},
   "outputs": [],
   "source": [
    "import cv2"
   ]
  },
  {
   "cell_type": "code",
   "execution_count": null,
   "id": "0697c803",
   "metadata": {},
   "outputs": [],
   "source": [
    "for i in range(TRAIN_SIZE):\n",
    "    img = cv2.imread(os.path.join(TRAIN_SET_FULL_PATH, '{}.jpg'.format(i)))\n",
    "    gray_scale = cv2.cvtColor(img, cv2.COLOR_BGR2GRAY)\n",
    "    flat_img = gray_scale.flatten()\n",
    "    X_train[i] = flat_img"
   ]
  },
  {
   "cell_type": "code",
   "execution_count": null,
   "id": "f71b5657",
   "metadata": {},
   "outputs": [],
   "source": [
    "print(X_train.shape)"
   ]
  },
  {
   "cell_type": "code",
   "execution_count": null,
   "id": "b77d839c",
   "metadata": {},
   "outputs": [],
   "source": [
    "X_train = np.hstack((np.ones((X_train.shape[0], 1)), X_train))\n",
    "print(X_train.shape)"
   ]
  },
  {
   "cell_type": "code",
   "execution_count": null,
   "id": "ca76b0bd",
   "metadata": {},
   "outputs": [],
   "source": [
    "class LinearRegression:\n",
    "\n",
    "    def __init__(self, alpha=0.01, lambd=0.01, max_iter=1000, tol=1e-4) -> None:\n",
    "        self.alpha = alpha #learning rate\n",
    "        self.lambd = lambd #regularization\n",
    "        self.max_iter = max_iter\n",
    "        self.tol = tol\n",
    "        self.w = None\n",
    "\n",
    "    def fit(self, X, y):\n",
    "        m, n = X.shape\n",
    "        self.w = np.random.randn(n, 1)\n",
    "        #print('w shape: ', self.w.shape)\n",
    "        prev_cost = np.inf\n",
    "\n",
    "        for _ in range(self.max_iter):\n",
    "            y_pred = X.dot(self.w)\n",
    "            #print('y pred shape: ', y_pred.shape)\n",
    "\n",
    "            SSE = np.sum((y_pred - y) ** 2) / 2\n",
    "            #print('SSE shape: ', SSE.shape)\n",
    "            L2 = self.lambd * np.sum(self.w ** 2) / 2\n",
    "            #print('L2 shape: ', L2.shape)\n",
    "\n",
    "            cost = SSE + L2\n",
    "            #print('cost shape: ', cost.shape)\n",
    "\n",
    "            if abs(prev_cost - cost) < self.tol:\n",
    "                break\n",
    "\n",
    "            prev_cost = cost\n",
    "\n",
    "            #print('y pred shape: ', y_pred.shape)\n",
    "            #print('y shape: ', y.shape)\n",
    "\n",
    "            #print(' new y shape: ', y.reshape(10000, 1).shape)\n",
    "\n",
    "            #print('SSE Grad shape: ', (y_pred - y).shape)\n",
    "\n",
    "            y = y.reshape(10000, 1)\n",
    "\n",
    "            grad = X.T.dot(y_pred - y) / m + self.lambd * self.w / m\n",
    "            #print('grad shape: ', grad.shape)\n",
    "            self.w -= self.alpha * grad\n",
    "\n",
    "    def predict(self, X):\n",
    "        return X.dot(self.w)\n"
   ]
  },
  {
   "cell_type": "code",
   "execution_count": null,
   "id": "4a02eecd",
   "metadata": {},
   "outputs": [],
   "source": [
    "clf = LinearRegression()\n",
    "clf.fit(X_train, y_train)"
   ]
  },
  {
   "cell_type": "code",
   "execution_count": null,
   "id": "4858c0ec",
   "metadata": {},
   "outputs": [],
   "source": [
    "TEST_SET_FOLDER_NAME = '3dshapes_test'\n",
    "TEST_SET_FULL_PATH = os.path.join(PATH, TEST_SET_FOLDER_NAME)\n",
    "\n",
    "TEST_SIZE = len(os.listdir(TEST_SET_FULL_PATH))\n",
    "X_test = np.zeros((TEST_SIZE, 4096))"
   ]
  },
  {
   "cell_type": "code",
   "execution_count": null,
   "id": "cf23c818",
   "metadata": {},
   "outputs": [],
   "source": [
    "for i in range(TEST_SIZE):\n",
    "    img = cv2.imread(os.path.join(TEST_SET_FULL_PATH, '{}.jpg'.format(i)))\n",
    "    gray_scale = cv2.cvtColor(img, cv2.COLOR_BGR2GRAY)\n",
    "    flat_img = gray_scale.flatten()\n",
    "    X_test[i] = flat_img"
   ]
  },
  {
   "cell_type": "code",
   "execution_count": null,
   "id": "5e4809d0",
   "metadata": {},
   "outputs": [],
   "source": [
    "print(X_test.shape)"
   ]
  },
  {
   "cell_type": "code",
   "execution_count": null,
   "id": "2198cf2a",
   "metadata": {},
   "outputs": [],
   "source": [
    "print(X_test)"
   ]
  },
  {
   "cell_type": "code",
   "execution_count": null,
   "id": "200ac677",
   "metadata": {},
   "outputs": [],
   "source": [
    "X_test = np.hstack((np.ones((X_test.shape[0], 1)), X_test))\n",
    "print(X_test.shape)"
   ]
  },
  {
   "cell_type": "code",
   "execution_count": null,
   "id": "908e9e4a",
   "metadata": {},
   "outputs": [],
   "source": [
    "TEST_LABEL_FILENAME = 'orientations_test.npy'\n",
    "TEST_LABEL_FULL_PATH = os.path.join(PATH, TEST_LABEL_FILENAME)\n",
    "\n",
    "y_test = np.load(TEST_LABEL_FULL_PATH)\n",
    "y_test = y_test.reshape(1000, 1)"
   ]
  },
  {
   "cell_type": "code",
   "execution_count": null,
   "id": "a788d282",
   "metadata": {},
   "outputs": [],
   "source": [
    "print(y_test)"
   ]
  },
  {
   "cell_type": "code",
   "execution_count": null,
   "id": "6e380016",
   "metadata": {},
   "outputs": [],
   "source": [
    "y_pred = clf.predict(X_test)"
   ]
  },
  {
   "cell_type": "code",
   "execution_count": null,
   "id": "94536f13",
   "metadata": {},
   "outputs": [],
   "source": [
    "print(y_pred)"
   ]
  },
  {
   "cell_type": "code",
   "execution_count": null,
   "id": "d7c15915",
   "metadata": {},
   "outputs": [],
   "source": [
    "print(y_test.shape)\n",
    "print(y_pred.shape)\n",
    "\n",
    "print((y_pred-y_test).shape)\n",
    "\n",
    "print((y_pred-y_test) ** 2)\n"
   ]
  },
  {
   "cell_type": "code",
   "execution_count": null,
   "id": "ac503013",
   "metadata": {},
   "outputs": [],
   "source": [
    "rmse = np.sqrt(np.mean((y_pred - y_test) ** 2))"
   ]
  },
  {
   "cell_type": "code",
   "execution_count": null,
   "id": "209c871e",
   "metadata": {},
   "outputs": [],
   "source": [
    "print(rmse)"
   ]
  },
  {
   "cell_type": "code",
   "execution_count": null,
   "id": "68f5bdc0",
   "metadata": {},
   "outputs": [],
   "source": [
    "print(clf.w.shape)"
   ]
  },
  {
   "cell_type": "code",
   "execution_count": null,
   "id": "cb28c9cb",
   "metadata": {},
   "outputs": [],
   "source": [
    "print(clf.w)"
   ]
  },
  {
   "cell_type": "code",
   "execution_count": null,
   "id": "585878ff",
   "metadata": {},
   "outputs": [],
   "source": []
  }
 ],
 "metadata": {
  "kernelspec": {
   "display_name": "Python 3 (ipykernel)",
   "language": "python",
   "name": "python3"
  },
  "language_info": {
   "codemirror_mode": {
    "name": "ipython",
    "version": 3
   },
   "file_extension": ".py",
   "mimetype": "text/x-python",
   "name": "python",
   "nbconvert_exporter": "python",
   "pygments_lexer": "ipython3",
   "version": "3.8.9"
  }
 },
 "nbformat": 4,
 "nbformat_minor": 5
}
