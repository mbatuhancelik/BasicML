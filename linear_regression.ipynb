{
 "cells": [
  {
   "cell_type": "code",
   "execution_count": 16,
   "id": "35f92e79",
   "metadata": {},
   "outputs": [],
   "source": [
    "import numpy as np\n",
    "import os"
   ]
  },
  {
   "cell_type": "code",
   "execution_count": 17,
   "id": "cd54089d",
   "metadata": {},
   "outputs": [],
   "source": [
    "PATH = './linearRegression_data'"
   ]
  },
  {
   "cell_type": "code",
   "execution_count": 18,
   "id": "5647ffa0",
   "metadata": {},
   "outputs": [],
   "source": [
    "TRAIN_LABEL_FILENAME = 'orientations_train.npy'\n",
    "TRAIN_LABEL_FULL_PATH = os.path.join(PATH, TRAIN_LABEL_FILENAME)\n",
    "\n",
    "y_train = np.load(TRAIN_LABEL_FULL_PATH)\n",
    "y_train = y_train.reshape(10000, 1)"
   ]
  },
  {
   "cell_type": "code",
   "execution_count": 19,
   "id": "a13d26db",
   "metadata": {},
   "outputs": [],
   "source": [
    "TRAIN_SET_FOLDER_NAME = '3dshapes_train'\n",
    "TRAIN_SET_FULL_PATH = os.path.join(PATH, TRAIN_SET_FOLDER_NAME)\n",
    "\n",
    "TRAIN_SIZE = len(os.listdir(TRAIN_SET_FULL_PATH))\n",
    "X_train = np.zeros((TRAIN_SIZE, 4096))\n",
    "\n",
    "X_train_hog_grayscale = np.zeros((TRAIN_SIZE, 1568))"
   ]
  },
  {
   "cell_type": "code",
   "execution_count": 20,
   "id": "8c163f33",
   "metadata": {},
   "outputs": [],
   "source": [
    "import cv2\n",
    "from skimage.feature import hog "
   ]
  },
  {
   "cell_type": "code",
   "execution_count": 21,
   "id": "0697c803",
   "metadata": {},
   "outputs": [],
   "source": [
    "for i in range(TRAIN_SIZE):\n",
    "    img = cv2.imread(os.path.join(TRAIN_SET_FULL_PATH, '{}.jpg'.format(i)))\n",
    "    gray_scale = cv2.cvtColor(img, cv2.COLOR_BGR2GRAY)\n",
    "    flat_img = gray_scale.flatten()\n",
    "    X_train[i] = flat_img / 255.\n",
    "\n",
    "    hog_grayscale = hog(gray_scale, orientations=8, pixels_per_cell=(8, 8), cells_per_block=(2,2), visualize=False)\n",
    "    X_train_hog_grayscale[i] = hog_grayscale\n",
    "\n",
    "    "
   ]
  },
  {
   "cell_type": "code",
   "execution_count": 22,
   "id": "92d98229",
   "metadata": {},
   "outputs": [
    {
     "name": "stdout",
     "output_type": "stream",
     "text": [
      "Number of missing values in X: 0\n",
      "Number of missing values in y: 0\n"
     ]
    }
   ],
   "source": [
    "missing_X = np.isnan(X_train)\n",
    "missing_y = np.isnan(y_train)\n",
    "\n",
    "n_missing_X = np.sum(missing_X)\n",
    "n_missing_y = np.sum(missing_y)\n",
    "\n",
    "print(f\"Number of missing values in X: {n_missing_X}\")\n",
    "print(f\"Number of missing values in y: {n_missing_y}\")"
   ]
  },
  {
   "cell_type": "code",
   "execution_count": 23,
   "id": "b77d839c",
   "metadata": {},
   "outputs": [
    {
     "name": "stdout",
     "output_type": "stream",
     "text": [
      "X shape:  (10000, 4097)\n"
     ]
    }
   ],
   "source": [
    "X_train = np.hstack((np.ones((X_train.shape[0], 1)), X_train))\n",
    "print('X shape: ', X_train.shape)"
   ]
  },
  {
   "cell_type": "code",
   "execution_count": 24,
   "id": "cd23c6a3",
   "metadata": {},
   "outputs": [
    {
     "name": "stdout",
     "output_type": "stream",
     "text": [
      "X hog grayscale shape:  (10000, 1569)\n"
     ]
    }
   ],
   "source": [
    "X_train_hog_grayscale = np.hstack((np.ones((X_train_hog_grayscale.shape[0], 1)), X_train_hog_grayscale))\n",
    "print('X hog grayscale shape: ', X_train_hog_grayscale.shape)"
   ]
  },
  {
   "cell_type": "code",
   "execution_count": 25,
   "id": "ca76b0bd",
   "metadata": {},
   "outputs": [],
   "source": [
    "class LinearRegression:\n",
    "\n",
    "    def __init__(self, alpha=0.001, lambd=0.01, max_iter=5000, tol=1e-2) -> None:\n",
    "        self.alpha = alpha #learning rate\n",
    "        self.lambd = lambd #regularization\n",
    "        self.max_iter = max_iter\n",
    "        self.tol = tol\n",
    "        self.w = None\n",
    "\n",
    "    def fit(self, X, y):\n",
    "        m, n = X.shape\n",
    "        self.w = np.random.randn(n, 1)\n",
    "        print('w shape: ', self.w.shape)\n",
    "        \n",
    "        prev_cost = np.inf\n",
    "\n",
    "        for i in range(self.max_iter):\n",
    "            y_pred = X.dot(self.w)\n",
    "\n",
    "            SSE = np.sum((y_pred - y) ** 2) / 2\n",
    "            L2 = self.lambd * np.sum(self.w ** 2) / 2\n",
    "\n",
    "            cost = SSE + L2\n",
    "\n",
    "            if abs(prev_cost - cost) < self.tol:\n",
    "                break\n",
    "\n",
    "            prev_cost = cost\n",
    "\n",
    "            grad = X.T.dot(y_pred - y) / m + self.lambd * self.w / m\n",
    "            self.w -= self.alpha * grad\n",
    "\n",
    "        print('Number of iterations: ', i+1)\n",
    "\n",
    "    def predict(self, X):\n",
    "        return X.dot(self.w)\n"
   ]
  },
  {
   "cell_type": "code",
   "execution_count": 26,
   "id": "4a02eecd",
   "metadata": {},
   "outputs": [
    {
     "name": "stdout",
     "output_type": "stream",
     "text": [
      "w shape:  (4097, 1)\n",
      "Number of iterations:  5000\n"
     ]
    }
   ],
   "source": [
    "clf = LinearRegression()\n",
    "clf.fit(X_train, y_train)"
   ]
  },
  {
   "cell_type": "code",
   "execution_count": 27,
   "id": "c6c55ec5",
   "metadata": {},
   "outputs": [
    {
     "name": "stdout",
     "output_type": "stream",
     "text": [
      "w shape:  (1569, 1)\n",
      "Number of iterations:  5000\n"
     ]
    }
   ],
   "source": [
    "clf_hog_grayscale = LinearRegression()\n",
    "clf_hog_grayscale.fit(X_train_hog_grayscale, y_train)"
   ]
  },
  {
   "cell_type": "code",
   "execution_count": 28,
   "id": "4858c0ec",
   "metadata": {},
   "outputs": [],
   "source": [
    "TEST_SET_FOLDER_NAME = '3dshapes_test'\n",
    "TEST_SET_FULL_PATH = os.path.join(PATH, TEST_SET_FOLDER_NAME)\n",
    "\n",
    "TEST_SIZE = len(os.listdir(TEST_SET_FULL_PATH))\n",
    "X_test = np.zeros((TEST_SIZE, 4096))\n",
    "\n",
    "X_test_hog_grayscale = np.zeros((TEST_SIZE, 1568))"
   ]
  },
  {
   "cell_type": "code",
   "execution_count": 29,
   "id": "cf23c818",
   "metadata": {},
   "outputs": [],
   "source": [
    "for i in range(TEST_SIZE):\n",
    "    img = cv2.imread(os.path.join(TEST_SET_FULL_PATH, '{}.jpg'.format(i)))\n",
    "    gray_scale = cv2.cvtColor(img, cv2.COLOR_BGR2GRAY)\n",
    "    flat_img = gray_scale.flatten()\n",
    "    X_test[i] = flat_img / 255.\n",
    "\n",
    "    hog_grayscale = hog(gray_scale, orientations=8, pixels_per_cell=(8, 8), cells_per_block=(2,2), visualize=False)\n",
    "    X_test_hog_grayscale[i] = hog_grayscale"
   ]
  },
  {
   "cell_type": "code",
   "execution_count": 30,
   "id": "200ac677",
   "metadata": {},
   "outputs": [
    {
     "name": "stdout",
     "output_type": "stream",
     "text": [
      "X test shape:  (1000, 4097)\n"
     ]
    }
   ],
   "source": [
    "X_test = np.hstack((np.ones((X_test.shape[0], 1)), X_test))\n",
    "print('X test shape: ', X_test.shape)"
   ]
  },
  {
   "cell_type": "code",
   "execution_count": 31,
   "id": "76dc5d9a",
   "metadata": {},
   "outputs": [
    {
     "name": "stdout",
     "output_type": "stream",
     "text": [
      "X test hog grayscale shape:  (1000, 1569)\n"
     ]
    }
   ],
   "source": [
    "X_test_hog_grayscale = np.hstack((np.ones((X_test_hog_grayscale.shape[0], 1)), X_test_hog_grayscale))\n",
    "print('X test hog grayscale shape: ', X_test_hog_grayscale.shape)"
   ]
  },
  {
   "cell_type": "code",
   "execution_count": 32,
   "id": "908e9e4a",
   "metadata": {},
   "outputs": [],
   "source": [
    "TEST_LABEL_FILENAME = 'orientations_test.npy'\n",
    "TEST_LABEL_FULL_PATH = os.path.join(PATH, TEST_LABEL_FILENAME)\n",
    "\n",
    "y_test = np.load(TEST_LABEL_FULL_PATH)\n",
    "y_test = y_test.reshape(1000, 1)"
   ]
  },
  {
   "cell_type": "code",
   "execution_count": 33,
   "id": "6e380016",
   "metadata": {},
   "outputs": [],
   "source": [
    "y_pred = clf.predict(X_test)"
   ]
  },
  {
   "cell_type": "code",
   "execution_count": 34,
   "id": "d3e63a05",
   "metadata": {},
   "outputs": [],
   "source": [
    "y_pred_hog_grayscale = clf_hog_grayscale.predict(X_test_hog_grayscale)"
   ]
  },
  {
   "cell_type": "code",
   "execution_count": 35,
   "id": "2b53d60f",
   "metadata": {},
   "outputs": [
    {
     "name": "stdout",
     "output_type": "stream",
     "text": [
      "[25.71428571] [26.50384766]\n",
      "[-12.85714286] [-14.01364471]\n",
      "[-4.28571429] [-5.61827863]\n",
      "[-17.14285714] [-16.35317087]\n",
      "[8.57142857] [9.45288716]\n",
      "[8.57142857] [8.45154567]\n",
      "[4.28571429] [4.7599182]\n",
      "[8.57142857] [8.5575617]\n",
      "[0.] [0.44766524]\n",
      "[0.] [-0.12963318]\n"
     ]
    }
   ],
   "source": [
    "for i in range(10):\n",
    "    print(y_test[i], y_pred[i])"
   ]
  },
  {
   "cell_type": "code",
   "execution_count": 36,
   "id": "ac503013",
   "metadata": {},
   "outputs": [],
   "source": [
    "rmse = np.sqrt(np.mean((y_pred - y_test) ** 2))"
   ]
  },
  {
   "cell_type": "code",
   "execution_count": 37,
   "id": "209c871e",
   "metadata": {},
   "outputs": [
    {
     "data": {
      "text/plain": [
       "2.305984864382789"
      ]
     },
     "execution_count": 37,
     "metadata": {},
     "output_type": "execute_result"
    }
   ],
   "source": [
    "rmse"
   ]
  },
  {
   "cell_type": "code",
   "execution_count": 38,
   "id": "cb28c9cb",
   "metadata": {},
   "outputs": [
    {
     "data": {
      "text/plain": [
       "array([[ 1.82326344],\n",
       "       [ 1.55260402],\n",
       "       [-1.77574098],\n",
       "       ...,\n",
       "       [ 0.66858262],\n",
       "       [ 0.82236852],\n",
       "       [-0.57004001]])"
      ]
     },
     "execution_count": 38,
     "metadata": {},
     "output_type": "execute_result"
    }
   ],
   "source": [
    "clf.w"
   ]
  },
  {
   "cell_type": "code",
   "execution_count": 39,
   "id": "585878ff",
   "metadata": {},
   "outputs": [],
   "source": [
    "rmse_hog_grayscale = np.sqrt(np.mean((y_pred_hog_grayscale - y_test) ** 2))"
   ]
  },
  {
   "cell_type": "code",
   "execution_count": 40,
   "id": "ff92658d",
   "metadata": {},
   "outputs": [
    {
     "data": {
      "text/plain": [
       "4.717590643372273"
      ]
     },
     "execution_count": 40,
     "metadata": {},
     "output_type": "execute_result"
    }
   ],
   "source": [
    "rmse_hog_grayscale"
   ]
  }
 ],
 "metadata": {
  "kernelspec": {
   "display_name": "Python 3 (ipykernel)",
   "language": "python",
   "name": "python3"
  },
  "language_info": {
   "codemirror_mode": {
    "name": "ipython",
    "version": 3
   },
   "file_extension": ".py",
   "mimetype": "text/x-python",
   "name": "python",
   "nbconvert_exporter": "python",
   "pygments_lexer": "ipython3",
   "version": "3.9.6"
  }
 },
 "nbformat": 4,
 "nbformat_minor": 5
}
